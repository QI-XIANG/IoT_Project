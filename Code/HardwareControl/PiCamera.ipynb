{
 "cells": [
  {
   "cell_type": "code",
   "execution_count": null,
   "id": "a405fa1c",
   "metadata": {},
   "outputs": [],
   "source": [
    "import picamera\n",
    "import time\n",
    "\n",
    "# take pic\n",
    "camera = picamera.PiCamera()\n",
    "\n",
    "      \n",
    "camera.capture('motion.jpg')\n",
    "print('camera take the picture')"
   ]
  }
 ],
 "metadata": {
  "kernelspec": {
   "display_name": "Python 3 (ipykernel)",
   "language": "python",
   "name": "python3"
  },
  "language_info": {
   "codemirror_mode": {
    "name": "ipython",
    "version": 3
   },
   "file_extension": ".py",
   "mimetype": "text/x-python",
   "name": "python",
   "nbconvert_exporter": "python",
   "pygments_lexer": "ipython3",
   "version": "3.7.11"
  }
 },
 "nbformat": 4,
 "nbformat_minor": 5
}
