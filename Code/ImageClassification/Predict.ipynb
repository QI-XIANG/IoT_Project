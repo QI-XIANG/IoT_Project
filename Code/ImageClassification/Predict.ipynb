{
 "cells": [
  {
   "cell_type": "code",
   "execution_count": 1,
   "id": "69c80d70",
   "metadata": {},
   "outputs": [
    {
     "name": "stdout",
     "output_type": "stream",
     "text": [
      "[0][1]"
     ]
    }
   ],
   "source": [
    "from keras.models import load_model\n",
    "from keras.preprocessing import image\n",
    "import cv2\n",
    "import numpy as np\n",
    "\n",
    "model = load_model('model.h5')\n",
    "model.load_weights('first_try.h5')\n",
    "\n",
    "model.compile(loss=\"sparse_categorical_crossentropy\",optimizer=\"adam\",metrics=[\"accuracy\"])\n",
    "\n",
    "img_width, img_height = 150, 150\n",
    "\n",
    "# predicting images\n",
    "img = image.load_img('GG.png', target_size=(img_width, img_height))\n",
    "x = image.img_to_array(img)\n",
    "x = np.expand_dims(x, axis=0)\n",
    "\n",
    "images = np.vstack([x])\n",
    "classes = model.predict(images, batch_size=10)\n",
    "\n",
    "# predicting multiple images at once\n",
    "img = image.load_img('slime_edit_0_41.jpeg', target_size=(img_width, img_height))\n",
    "y = image.img_to_array(img)\n",
    "y = np.expand_dims(y, axis=0)\n",
    "\n",
    "# pass the list of multiple images np.vstack()\n",
    "images = np.vstack([x, y])\n",
    "classes = model.predict(images, batch_size=32).astype(\"int32\")\n",
    "\n",
    "for kind in classes:\n",
    "    print(kind,end='')\n",
    "\n",
    "#classes = (model.predict(img) > 0.5).astype(\"int32\")"
   ]
  },
  {
   "cell_type": "code",
   "execution_count": 1,
   "id": "9f783373",
   "metadata": {},
   "outputs": [],
   "source": [
    "from tensorflow import keras\n",
    "from tensorflow.keras.preprocessing import image\n",
    "from tensorflow.keras.models import load_model\n",
    "'''from keras.models import load_model\n",
    "from keras.preprocessing import image'''\n",
    "import numpy as np\n",
    "\n",
    "\n",
    "def Prediction(path):\n",
    "\n",
    "    model = load_model('model.h5')\n",
    "    model.load_weights('first_try.h5')\n",
    "\n",
    "    model.compile(loss=\"sparse_categorical_crossentropy\",optimizer=\"adam\",metrics=[\"accuracy\"])\n",
    "\n",
    "    img_width, img_height = 150, 150\n",
    "\n",
    "    # predicting image\n",
    "    img = image.load_img(path, target_size=(img_width, img_height))\n",
    "    x = image.img_to_array(img)\n",
    "    x = np.expand_dims(x, axis=0)\n",
    "\n",
    "    images = np.vstack([x])\n",
    "    classes = model.predict(images, batch_size=10)\n",
    "\n",
    "    kind = model.predict(images, batch_size=10).astype(\"int32\")\n",
    "    print(kind[0][0])"
   ]
  },
  {
   "cell_type": "code",
   "execution_count": 2,
   "id": "dd69ea2a",
   "metadata": {},
   "outputs": [
    {
     "name": "stdout",
     "output_type": "stream",
     "text": [
      "0\n",
      "1\n"
     ]
    }
   ],
   "source": [
    "Prediction('GG.png')\n",
    "Prediction('slime_edit_0_41.jpeg')"
   ]
  },
  {
   "cell_type": "code",
   "execution_count": null,
   "id": "34ea6317",
   "metadata": {},
   "outputs": [],
   "source": []
  }
 ],
 "metadata": {
  "kernelspec": {
   "display_name": "Python 3 (ipykernel)",
   "language": "python",
   "name": "python3"
  },
  "language_info": {
   "codemirror_mode": {
    "name": "ipython",
    "version": 3
   },
   "file_extension": ".py",
   "mimetype": "text/x-python",
   "name": "python",
   "nbconvert_exporter": "python",
   "pygments_lexer": "ipython3",
   "version": "3.7.11"
  }
 },
 "nbformat": 4,
 "nbformat_minor": 5
}
